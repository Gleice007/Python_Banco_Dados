{
 "cells": [
  {
   "cell_type": "code",
   "execution_count": 1,
   "id": "77ce89cc-03e9-4096-819a-79837b07bf61",
   "metadata": {},
   "outputs": [
    {
     "name": "stdout",
     "output_type": "stream",
     "text": [
      "[22.  27.5 33.  38.5 44. ]\n"
     ]
    }
   ],
   "source": [
    "import numpy as np\n",
    "\n",
    "# Preços dos produtos\n",
    "precos = np.array([20, 25, 30, 35, 40])\n",
    "\n",
    "# Aumentar os preços em 10 % (ex.: ajuste de inflação)\n",
    "novos_precos = precos * 1.10\n",
    "print(novos_precos)"
   ]
  },
  {
   "cell_type": "code",
   "execution_count": 3,
   "id": "c38c2ca2-24f8-43a1-8951-00b643e05904",
   "metadata": {},
   "outputs": [
    {
     "name": "stdout",
     "output_type": "stream",
     "text": [
      "1180\n"
     ]
    }
   ],
   "source": [
    "# Vendas do dia\n",
    "vendas = np.array([200, 220, 250, 210, 300])\n",
    "\n",
    "# Somar todas as vendas\n",
    "total_vendas = np.sum(vendas)\n",
    "print(total_vendas)"
   ]
  },
  {
   "cell_type": "code",
   "execution_count": 5,
   "id": "0a9f41d2-a272-4b4f-853d-285471396fec",
   "metadata": {},
   "outputs": [
    {
     "name": "stdout",
     "output_type": "stream",
     "text": [
      "241.42857142857142\n"
     ]
    }
   ],
   "source": [
    "# Vendas diárias em uma semana\n",
    "vendas = np.array([200, 220, 250, 210, 300, 280, 230])\n",
    "\n",
    "# Calcular a média de vendas\n",
    "media_vendas = np.mean(vendas)\n",
    "print(media_vendas)"
   ]
  },
  {
   "cell_type": "code",
   "execution_count": 7,
   "id": "749c90d4-f3b6-4af4-b492-1a4e323d3e4f",
   "metadata": {},
   "outputs": [
    {
     "name": "stdout",
     "output_type": "stream",
     "text": [
      "Amédia de vendas foi R$ 241.43.\n"
     ]
    }
   ],
   "source": [
    "print(f\"Amédia de vendas foi R$ {media_vendas:.2f}.\")"
   ]
  },
  {
   "cell_type": "code",
   "execution_count": 17,
   "id": "333d7d6e-597f-4532-bb42-1713894100a7",
   "metadata": {},
   "outputs": [
    {
     "name": "stdout",
     "output_type": "stream",
     "text": [
      "Produto mais caro: 40\n",
      "Produto mais barato: 20\n"
     ]
    }
   ],
   "source": [
    "# Preços dos produtos\n",
    "precos = np.array([20, 25, 30, 35, 40])\n",
    "\n",
    "# Encontrar o produto mais caro e mais barato\n",
    "produto_mais_caro = np.max(precos)\n",
    "produto_mais_barato = np.min(precos)\n",
    "print(f\"Produto mais caro: {produto_mais_caro}\")\n",
    "print(f\"Produto mais barato: {produto_mais_barato}\")"
   ]
  },
  {
   "cell_type": "code",
   "execution_count": 19,
   "id": "61d3a5fc-5f1b-4caf-894b-0a725069e147",
   "metadata": {},
   "outputs": [
    {
     "name": "stdout",
     "output_type": "stream",
     "text": [
      "[200 210 220 250 300]\n"
     ]
    }
   ],
   "source": [
    "# Vendas diárias\n",
    "vendas = np.array([200, 220, 250, 210, 300])\n",
    "\n",
    "# Ordenar as vendas\n",
    "vendas_ordenadas = np.sort(vendas)\n",
    "print(vendas_ordenadas)"
   ]
  },
  {
   "cell_type": "code",
   "execution_count": 21,
   "id": "483fdba4-0628-4ea0-9224-c97d8779c13d",
   "metadata": {},
   "outputs": [],
   "source": [
    "# Número de produtos vendidos\n",
    "quantidades = np.array([10, 20, 30, 40])\n",
    "\n",
    "# Preços dos produtos\n",
    "precos = np.array([5, 10, 15, 20])\n",
    "\n",
    "# Calcular o valor total de vendas?"
   ]
  },
  {
   "cell_type": "code",
   "execution_count": 23,
   "id": "426bfc47-5560-4cb4-9049-fa3a50f36764",
   "metadata": {},
   "outputs": [
    {
     "name": "stdout",
     "output_type": "stream",
     "text": [
      "[ 50 200 450 800]\n"
     ]
    }
   ],
   "source": [
    "print(quantidades * precos)"
   ]
  },
  {
   "cell_type": "code",
   "execution_count": 25,
   "id": "d45412f6-6912-414b-9bfa-e836647db9b8",
   "metadata": {},
   "outputs": [
    {
     "name": "stdout",
     "output_type": "stream",
     "text": [
      "1500\n"
     ]
    }
   ],
   "source": [
    "print(np.sum(quantidades * precos))"
   ]
  },
  {
   "cell_type": "code",
   "execution_count": 27,
   "id": "63d2eb09-fb40-439d-88a6-eb5536cded38",
   "metadata": {},
   "outputs": [
    {
     "name": "stdout",
     "output_type": "stream",
     "text": [
      "1500\n"
     ]
    }
   ],
   "source": [
    "total_vendas = np.dot(quantidades, precos)\n",
    "print(total_vendas)"
   ]
  },
  {
   "cell_type": "code",
   "execution_count": null,
   "id": "c04640fe-d7e8-4eee-b4dd-9ddb81f6277b",
   "metadata": {},
   "outputs": [],
   "source": []
  }
 ],
 "metadata": {
  "kernelspec": {
   "display_name": "Python 3 (ipykernel)",
   "language": "python",
   "name": "python3"
  },
  "language_info": {
   "codemirror_mode": {
    "name": "ipython",
    "version": 3
   },
   "file_extension": ".py",
   "mimetype": "text/x-python",
   "name": "python",
   "nbconvert_exporter": "python",
   "pygments_lexer": "ipython3",
   "version": "3.12.4"
  }
 },
 "nbformat": 4,
 "nbformat_minor": 5
}
